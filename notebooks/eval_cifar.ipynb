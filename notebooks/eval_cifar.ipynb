{
 "cells": [
  {
   "cell_type": "code",
   "execution_count": 43,
   "metadata": {
    "collapsed": true
   },
   "outputs": [
    {
     "name": "stdout",
     "output_type": "stream",
     "text": [
      "The autoreload extension is already loaded. To reload it, use:\n",
      "  %reload_ext autoreload\n",
      "env: CUDA_VISIBLE_DEVICES=8\n"
     ]
    }
   ],
   "source": [
    "%load_ext autoreload\n",
    "%autoreload 2\n",
    "%env CUDA_VISIBLE_DEVICES=8\n",
    "import numpy as np\n",
    "\n",
    "from sklearn.datasets import fetch_openml\n",
    "\n",
    "import os\n",
    "import sys\n",
    "sys.path.append(\"../scripts\")\n",
    "sys.path.append(\"..\")\n",
    "import scripts.utils as utils\n",
    "from scripts.utils import get_path, compute_knn_acc, compute_lin_acc, check_knn_acc, check_lin_acc\n",
    "\n",
    "import pickle"
   ]
  },
  {
   "cell_type": "code",
   "execution_count": 44,
   "outputs": [],
   "source": [
    "epochs = 1000\n",
    "model_name = \"resnet18\"\n",
    "root_dir = get_path(\"data\")\n"
   ],
   "metadata": {
    "collapsed": false
   }
  },
  {
   "cell_type": "code",
   "execution_count": 45,
   "outputs": [],
   "source": [
    "## def get_dataset():\n",
    "cifar = fetch_openml(\"CIFAR_10\",\n",
    "                     data_home=os.path.join(root_dir, \"cifar10\")\n",
    "                     )\n",
    "# Separate the color channels and move them to the back.\n",
    "data = np.moveaxis(cifar.data.reshape(60000, 3, 32, 32), 1, -1)\n",
    "labels = np.vectorize(np.int8)(cifar.target)\n",
    "mean = (0.4914, 0.4822, 0.4465)\n",
    "std = (0.2023, 0.1994, 0.2010)\n",
    "dim = (32, 32, 3)\n"
   ],
   "metadata": {
    "collapsed": false
   }
  },
  {
   "cell_type": "markdown",
   "source": [
    "# inspect single run"
   ],
   "metadata": {
    "collapsed": false
   }
  },
  {
   "cell_type": "code",
   "execution_count": 47,
   "outputs": [],
   "source": [
    "run = 0\n",
    "negative_samples = 2"
   ],
   "metadata": {
    "collapsed": false
   }
  },
  {
   "cell_type": "code",
   "execution_count": 48,
   "outputs": [],
   "source": [
    "file_name = os.path.join(root_dir, \"cifar10\", \"results\",\n",
    "                         f\"{model_name}_epochs_{epochs}_m_{negative_samples}_run_{run}.pkl\")\n",
    "with open(file_name, \"rb\") as file:\n",
    "    embedder = pickle.load(file)\n"
   ],
   "metadata": {
    "collapsed": false
   }
  },
  {
   "cell_type": "code",
   "execution_count": 49,
   "outputs": [
    {
     "data": {
      "text/plain": "0.8715"
     },
     "execution_count": 49,
     "metadata": {},
     "output_type": "execute_result"
    }
   ],
   "source": [
    "check_knn_acc(data,\n",
    "              labels,\n",
    "              embedder,\n",
    "              file_name=file_name,\n",
    "              run=0,\n",
    "              test_size=10000,\n",
    "              batch_size=1024,\n",
    "              num_workers=8,\n",
    "              device=\"cuda:0\")"
   ],
   "metadata": {
    "collapsed": false
   }
  },
  {
   "cell_type": "code",
   "execution_count": 50,
   "outputs": [
    {
     "data": {
      "text/plain": "0.9081"
     },
     "execution_count": 50,
     "metadata": {},
     "output_type": "execute_result"
    }
   ],
   "source": [
    "check_lin_acc(data,\n",
    "              labels,\n",
    "              embedder,\n",
    "              file_name=file_name,\n",
    "              run=0,\n",
    "              test_size=10000,\n",
    "              batch_size=1024,\n",
    "              num_workers=8,\n",
    "              device=\"cuda:0\")"
   ],
   "metadata": {
    "collapsed": false
   }
  },
  {
   "cell_type": "markdown",
   "source": [
    "# inspect metrics for all models"
   ],
   "metadata": {
    "collapsed": false
   }
  },
  {
   "cell_type": "code",
   "execution_count": 58,
   "outputs": [],
   "source": [
    "runs = [0, 1, 2]\n",
    "nbs_neg_samples = [2, 16, 128, 512, 2048]"
   ],
   "metadata": {
    "collapsed": false
   }
  },
  {
   "cell_type": "code",
   "execution_count": 59,
   "outputs": [
    {
     "name": "stdout",
     "output_type": "stream",
     "text": [
      "Done with n_neg_samples 2 and run 0.\n",
      "Done with n_neg_samples 2 and run 1.\n",
      "Done with n_neg_samples 2 and run 2.\n",
      "Done with n_neg_samples 16 and run 0.\n",
      "Done with n_neg_samples 16 and run 1.\n",
      "Done with n_neg_samples 16 and run 2.\n",
      "Done with n_neg_samples 128 and run 0.\n",
      "Done with n_neg_samples 128 and run 1.\n",
      "Done with n_neg_samples 128 and run 2.\n",
      "Done with n_neg_samples 512 and run 0.\n",
      "Done with n_neg_samples 512 and run 1.\n",
      "Done with n_neg_samples 512 and run 2.\n",
      "Done with n_neg_samples 2048 and run 0.\n",
      "Done with n_neg_samples 2048 and run 1.\n",
      "Done with n_neg_samples 2048 and run 2.\n"
     ]
    }
   ],
   "source": [
    "embedders = []\n",
    "knn_accs = []\n",
    "lin_accs = []\n",
    "times = []\n",
    "for n_neg_samples in nbs_neg_samples:\n",
    "    embedders_by_runs = []\n",
    "    for run in runs:\n",
    "        file_name = os.path.join(root_dir, \"cifar10\", \"results\",\n",
    "                         f\"{model_name}_epochs_{epochs}_m_{n_neg_samples}_run_{run}.pkl\")\n",
    "\n",
    "        with open(file_name, \"rb\") as file:\n",
    "            embedder = pickle.load(file)\n",
    "        check_knn_acc(data, labels, embedder, file_name, run)\n",
    "        check_lin_acc(data, labels, embedder, file_name, run)\n",
    "\n",
    "        embedders_by_runs.append(embedder)\n",
    "        print(f\"Done with n_neg_samples {n_neg_samples} and run {run}.\" )\n",
    "    embedders.append(embedders_by_runs)"
   ],
   "metadata": {
    "collapsed": false
   }
  },
  {
   "cell_type": "code",
   "execution_count": 60,
   "outputs": [],
   "source": [
    "knn_accs = np.array([[embedder.knn_acc for embedder in embedders_by_runs] for embedders_by_runs in embedders])\n",
    "lin_accs = np.array([[embedder.lin_acc for embedder in embedders_by_runs] for embedders_by_runs in embedders])"
   ],
   "metadata": {
    "collapsed": false
   }
  },
  {
   "cell_type": "code",
   "execution_count": 61,
   "outputs": [
    {
     "name": "stdout",
     "output_type": "stream",
     "text": [
      "2\n",
      "knn acc: 0.869 +/- 0.002\n",
      "lin acc: 0.907 +/- 0.002\n",
      "\n",
      "\n",
      "16\n",
      "knn acc: 0.917 +/- 0.001\n",
      "lin acc: 0.931 +/- 0.002\n",
      "\n",
      "\n",
      "128\n",
      "knn acc: 0.92 +/- 0.003\n",
      "lin acc: 0.933 +/- 0.003\n",
      "\n",
      "\n",
      "512\n",
      "knn acc: 0.922 +/- 0.002\n",
      "lin acc: 0.932 +/- 0.003\n",
      "\n",
      "\n",
      "2048\n",
      "knn acc: 0.919 +/- 0.001\n",
      "lin acc: 0.933 +/- 0.001\n",
      "\n",
      "\n"
     ]
    }
   ],
   "source": [
    "for i, n_neg_samples in enumerate(nbs_neg_samples):\n",
    "    print(n_neg_samples)\n",
    "    print(f\"knn acc: {np.round(knn_accs[i].mean(), 3)} +/- {np.round(knn_accs[i].std(), 3)}\")\n",
    "    print(f\"lin acc: {np.round(lin_accs[i].mean(), 3)} +/- {np.round(lin_accs[i].std(), 3)}\")\n",
    "    print(\"\\n\")"
   ],
   "metadata": {
    "collapsed": false
   }
  },
  {
   "cell_type": "code",
   "execution_count": 62,
   "outputs": [],
   "source": [
    "times = np.array([embedder.time for embedder in embedders_by_runs for embedders_by_runs in embedders]) / 60  # in minutes"
   ],
   "metadata": {
    "collapsed": false
   }
  },
  {
   "cell_type": "code",
   "execution_count": 63,
   "outputs": [
    {
     "name": "stdout",
     "output_type": "stream",
     "text": [
      "Time per run [min]: 721.1296853370137 +/- 16.707088954114635\n"
     ]
    }
   ],
   "source": [
    "time_mean = times.mean()\n",
    "time_std = times.std()\n",
    "\n",
    "print(f\"Time per run [min]: {time_mean} +/- {time_std}\")"
   ],
   "metadata": {
    "collapsed": false
   }
  },
  {
   "cell_type": "code",
   "execution_count": null,
   "outputs": [],
   "source": [],
   "metadata": {
    "collapsed": false
   }
  }
 ],
 "metadata": {
  "kernelspec": {
   "name": "conda-env-nce-py",
   "language": "python",
   "display_name": "Python [conda env:nce]"
  },
  "language_info": {
   "codemirror_mode": {
    "name": "ipython",
    "version": 2
   },
   "file_extension": ".py",
   "mimetype": "text/x-python",
   "name": "python",
   "nbconvert_exporter": "python",
   "pygments_lexer": "ipython2",
   "version": "2.7.6"
  }
 },
 "nbformat": 4,
 "nbformat_minor": 0
}
