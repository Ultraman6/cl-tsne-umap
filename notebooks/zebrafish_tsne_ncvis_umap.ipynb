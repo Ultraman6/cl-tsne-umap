{
 "cells": [
  {
   "cell_type": "code",
   "execution_count": null,
   "outputs": [],
   "source": [
    "%load_ext autoreload\n",
    "%autoreload 2\n",
    "%env CUDA_VISIBLE_DEVICES=1\n",
    "import matplotlib.pyplot as plt\n",
    "import matplotlib\n",
    "\n",
    "import os\n",
    "import numpy as np\n",
    "from openTSNE.affinity import Affinities\n",
    "from vis_utils.tsne_wrapper import TSNEwrapper\n",
    "\n",
    "import sys\n",
    "sys.path.append(\"..\")\n",
    "from scripts.utils import get_path\n",
    "from vis_utils.loaders import load_dataset, zebra_color_to_label, zebra_label_to_color\n",
    "from vis_utils.utils import  save_dict, load_dict\n",
    "from vis_utils.plot import plot_scatter\n",
    "import pickle\n",
    "import umap\n",
    "import ncvis"
   ],
   "metadata": {
    "collapsed": false,
    "pycharm": {
     "name": "#%%\n"
    }
   }
  },
  {
   "cell_type": "code",
   "execution_count": null,
   "outputs": [],
   "source": [
    "root_path = get_path(\"data\")\n",
    "fig_path = get_path(\"figures\")"
   ],
   "metadata": {
    "collapsed": false,
    "pycharm": {
     "name": "#%%\n"
    }
   }
  },
  {
   "cell_type": "code",
   "execution_count": null,
   "outputs": [],
   "source": [
    "# parameters for all methods\n",
    "a = 1.0\n",
    "b = 1.0\n",
    "seed = 0\n",
    "seeds = [0, 1, 2]\n",
    "n_noise = 5\n",
    "\n",
    "k = 15\n",
    "dataset = \"zebrafish\""
   ],
   "metadata": {
    "collapsed": false,
    "pycharm": {
     "name": "#%%\n"
    }
   }
  },
  {
   "cell_type": "code",
   "execution_count": null,
   "outputs": [],
   "source": [
    "plt.style.use(\"default\")\n",
    "matplotlib.rcParams['mathtext.fontset'] = 'stix'\n",
    "plt.rcParams[\"font.family\"] = \"serif\"\n",
    "plt.rcParams['font.serif'] = \"Times New Roman\"\n",
    "cmap = matplotlib.cm.get_cmap(\"tab10\")"
   ],
   "metadata": {
    "collapsed": false,
    "pycharm": {
     "name": "#%%\n"
    }
   }
  },
  {
   "cell_type": "code",
   "execution_count": null,
   "outputs": [],
   "source": [
    "# get data\n",
    "x, y, sknn_graph, pca2 = load_dataset(root_path, dataset, k)\n",
    "print(x.shape)"
   ],
   "metadata": {
    "collapsed": false,
    "pycharm": {
     "name": "#%%\n"
    }
   }
  },
  {
   "cell_type": "code",
   "execution_count": null,
   "outputs": [],
   "source": [
    "# pca sanity check\n",
    "pca2_rescaled = pca2 / np.std(pca2[:, 0]) * 1.0\n",
    "plt.figure(figsize=(5,5))\n",
    "plot_scatter(plt.gca(),pca2_rescaled, y)"
   ],
   "metadata": {
    "collapsed": false,
    "pycharm": {
     "name": "#%%\n"
    }
   }
  },
  {
   "cell_type": "code",
   "execution_count": null,
   "outputs": [],
   "source": [
    "## tsne"
   ],
   "metadata": {
    "collapsed": false,
    "pycharm": {
     "name": "#%%\n"
    }
   }
  },
  {
   "cell_type": "code",
   "execution_count": null,
   "outputs": [],
   "source": [
    "n_early_epochs = 250\n",
    "n_epochs = 500\n",
    "perplexity = 2*k\n",
    "rescale_tsne = True\n",
    "log_kl = False\n",
    "log_embds = False\n",
    "log_Z = True\n",
    "\n",
    "\n",
    "if rescale_tsne:\n",
    "    pca_tsne = pca2 / np.std(pca2[:, 0]) / 10000\n",
    "else:\n",
    "    pca_tsne = pca2\n",
    "\n",
    "\n",
    "affinities_tSNE = Affinities()\n",
    "affinities_tSNE.P = (sknn_graph / sknn_graph.sum()).tocsr()"
   ],
   "metadata": {
    "collapsed": false,
    "pycharm": {
     "name": "#%%\n"
    }
   }
  },
  {
   "cell_type": "code",
   "execution_count": null,
   "outputs": [],
   "source": [
    "tsne_data_list = []\n",
    "for s in seeds:\n",
    "    file_name = os.path.join(root_path,\n",
    "                             dataset,\n",
    "                             f\"tsne_bin_k_{k}_n_epochs_{n_epochs}_n_early_epochs_{n_early_epochs}_perplexity_{perplexity}_seed_{s}_init_pca_rescale_{rescale_tsne}.pkl\")\n",
    "    try:\n",
    "        tsne_data = load_dict(file_name)\n",
    "    except FileNotFoundError:\n",
    "        tsne = TSNEwrapper(perplexity=perplexity,\n",
    "                           metric=\"euclidean\",\n",
    "                           n_jobs=5, # n_jobs=-10 does not work well, the cell does not print anything\n",
    "                           random_state=s,\n",
    "                           verbose=True,\n",
    "                           n_iter = n_epochs,\n",
    "                           early_exaggeration_iter = n_early_epochs,\n",
    "                           callbacks_every_iters=1,\n",
    "                           log_kl=log_kl,\n",
    "                           log_embds=log_embds,\n",
    "                           log_Z=log_Z,\n",
    "                           initialization=pca_tsne)\n",
    "        embd = tsne.fit_transform(x, affinities=affinities_tSNE)\n",
    "\n",
    "        save_dict(tsne.aux_data, file_name)\n",
    "        tsne_data = tsne.aux_data\n",
    "    tsne_data_list.append(tsne_data)"
   ],
   "metadata": {
    "collapsed": false,
    "pycharm": {
     "name": "#%%\n"
    }
   }
  },
  {
   "cell_type": "code",
   "execution_count": null,
   "outputs": [],
   "source": [
    "epoch = -1\n",
    "plt.figure(figsize=(5,5))\n",
    "plot_scatter(plt.gca(), tsne_data_list[0][\"embd\"], y )\n",
    "\n",
    "plt.savefig(os.path.join(fig_path,\n",
    "                         f\"tsne_{dataset}_bin_k_{k}_n_epochs_{n_epochs}_n_early_epochs_{n_early_epochs}_perplexity_{perplexity}_seed_{seed}_init_pca_rescale_{rescale_tsne}.png\"),\n",
    "            bbox_inches = 'tight',\n",
    "            pad_inches = 0,\n",
    "            dpi=200,\n",
    "            transparent=False,\n",
    "            facecolor='white')"
   ],
   "metadata": {
    "collapsed": false,
    "pycharm": {
     "name": "#%%\n"
    }
   }
  },
  {
   "cell_type": "code",
   "execution_count": null,
   "outputs": [],
   "source": [
    "norms = np.array([float(tsne_data[\"Zs\"][-1].cpu().numpy()) for tsne_data in tsne_data_list])\n",
    "print(\"{:.2E}\".format(norms.mean()))\n",
    "print(\"{:.2E}\".format(norms.std()))"
   ],
   "metadata": {
    "collapsed": false,
    "pycharm": {
     "name": "#%%\n"
    }
   }
  },
  {
   "cell_type": "markdown",
   "source": [
    "## UMAP"
   ],
   "metadata": {
    "collapsed": false,
    "pycharm": {
     "name": "#%% md\n"
    }
   }
  },
  {
   "cell_type": "code",
   "execution_count": null,
   "outputs": [],
   "source": [
    "lr = 1.0\n",
    "n_epochs = 750\n",
    "rescale_umap = 1.0\n",
    "\n",
    "if rescale_umap:\n",
    "    pca_umap = pca2 / np.std(pca2[:, 0]) * rescale_umap\n",
    "else:\n",
    "    pca_umap = pca2"
   ],
   "metadata": {
    "collapsed": false,
    "pycharm": {
     "name": "#%%\n"
    }
   }
  },
  {
   "cell_type": "code",
   "execution_count": null,
   "outputs": [],
   "source": [
    "filename = os.path.join(root_path, dataset, f\"umap_bin_k_{k}_n_epochs_{n_epochs}_lr_{lr}_seed_{seed}_a_{a}_b_{b}_init_pca_rescaled_{rescale_umap}.pkl\")\n",
    "try:\n",
    "    with open(filename, \"rb\") as file:\n",
    "        umapper = pickle.load(file)\n",
    "        embd_umap = umapper.embedding_\n",
    "except FileNotFoundError:\n",
    "    umapper = umap.UMAP(n_neighbors=k,\n",
    "                        n_epochs=n_epochs,\n",
    "                        log_losses=None,\n",
    "                        a=a,\n",
    "                        b=b,\n",
    "                        log_embeddings=True,\n",
    "                        log_norm=True,\n",
    "                        log_kl=True,\n",
    "                        random_state=seed,\n",
    "                        verbose=True,\n",
    "                        init=pca_umap,\n",
    "                        graph=sknn_graph,\n",
    "                        learning_rate=lr)\n",
    "    embd = umapper.fit_transform(x)\n",
    "    with open(filename, \"wb\") as file:\n",
    "        pickle.dump(umapper, file, pickle.HIGHEST_PROTOCOL)"
   ],
   "metadata": {
    "collapsed": false,
    "pycharm": {
     "name": "#%%\n"
    }
   }
  },
  {
   "cell_type": "code",
   "execution_count": null,
   "outputs": [],
   "source": [
    "epoch=-1\n",
    "plt.figure(figsize=(5,5))\n",
    "\n",
    "plot_scatter(plt.gca(), umapper.aux_data[\"embeddings\"][epoch], y)\n",
    "\n",
    "plt.savefig(os.path.join(fig_path,\n",
    "                         f\"umap_{dataset}_bin_k_{k}_n_epochs_{n_epochs}_lr_{lr}_seed_{seed}_a_{a}_b_{b}_init_pca_rescaled_{rescale_umap}.png\"),\n",
    "            bbox_inches = 'tight',\n",
    "            pad_inches = 0,\n",
    "            dpi=200,\n",
    "            transparent=False,\n",
    "            facecolor=\"white\")"
   ],
   "metadata": {
    "collapsed": false,
    "pycharm": {
     "name": "#%%\n"
    }
   }
  },
  {
   "cell_type": "markdown",
   "source": [
    "## NCVis"
   ],
   "metadata": {
    "collapsed": false,
    "pycharm": {
     "name": "#%% md\n"
    }
   }
  },
  {
   "cell_type": "code",
   "execution_count": null,
   "outputs": [],
   "source": [
    "n_epochs = 750\n",
    "rescale = 1.0\n",
    "alpha = 1.0\n",
    "alpha_Q = 0.001\n",
    "n_noise = 5\n",
    "noise_in_ratio = n_noise\n",
    "fix_Q = False\n",
    "learn_Q = True\n",
    "affinities = np.stack([sknn_graph.row, sknn_graph.col], axis=1)"
   ],
   "metadata": {
    "collapsed": false,
    "pycharm": {
     "name": "#%%\n"
    }
   }
  },
  {
   "cell_type": "code",
   "execution_count": null,
   "outputs": [],
   "source": [
    "ncvis_list = []\n",
    "for s in seeds:\n",
    "    file_name = os.path.join(root_path,\n",
    "                                 dataset,\n",
    "                                 f\"ncvis_bin_k_{k}_n_epochs_{n_epochs}_fix_Q_{fix_Q}_noise_in_ratio_{noise_in_ratio}_learn_Q_{learn_Q}_seed_{s}_n_noise_{n_noise}_alpha_{alpha}_alpha_Q_{alpha_Q}_a_{a}_b_{b}_init_pca_rescale_{rescale}.pkl\")\n",
    "    if rescale:\n",
    "        pca_ncvis = pca2 / np.std(pca2[:, 0]) * rescale\n",
    "    else:\n",
    "        pca_ncvis = pca2\n",
    "    try:\n",
    "        ncvis_data = load_dict(file_name)\n",
    "    except FileNotFoundError:\n",
    "        ncvisualizer = ncvis.NCVis(n_epochs=n_epochs,\n",
    "                                   random_seed=s,\n",
    "                                   fix_Q=fix_Q,\n",
    "                                   noise_in_ratio=noise_in_ratio,\n",
    "                                   learn_Q=learn_Q,\n",
    "                                   n_noise=n_noise,\n",
    "                                   alpha=alpha,\n",
    "                                   alpha_Q=alpha_Q,\n",
    "                                   a=a,\n",
    "                                   b=b)\n",
    "\n",
    "        embd = ncvisualizer.fit_transform(x,\n",
    "                                          affinities=affinities,\n",
    "                                          init=pca_ncvis,\n",
    "                                          log_embds=True,\n",
    "                                          log_nce=False,\n",
    "                                          log_nce_norm=False,\n",
    "                                          log_nce_no_noise=False)\n",
    "        ncvis_data = ncvisualizer.aux_data\n",
    "\n",
    "        save_dict(ncvis_data, file_name)\n",
    "    ncvis_list.append(ncvis_data)"
   ],
   "metadata": {
    "collapsed": false,
    "pycharm": {
     "name": "#%%\n"
    }
   }
  },
  {
   "cell_type": "code",
   "execution_count": null,
   "outputs": [],
   "source": [],
   "metadata": {
    "collapsed": false,
    "pycharm": {
     "name": "#%%\n"
    }
   }
  },
  {
   "cell_type": "code",
   "execution_count": null,
   "outputs": [],
   "source": [
    "epoch=-1\n",
    "plt.figure(figsize=(5,5))\n",
    "plot_scatter(plt.gca(), ncvis_list[0][\"embds\"][epoch], y)\n",
    "plt.savefig(os.path.join(fig_path,\n",
    "                         f\"ncvis_{dataset}_bin_k_{k}_n_epochs_{n_epochs}_noise_in_ratio_{noise_in_ratio}_learn_Q_{learn_Q}_seed_{seed}_n_noise_{n_noise}_alpha_{alpha}_alpha_Q_{alpha_Q}_a_{a}_b_{b}_init_pca_rescale_{rescale}.png\"),\n",
    "            bbox_inches = 'tight',\n",
    "            pad_inches = 0,\n",
    "            dpi=200,\n",
    "            transparent=False,\n",
    "            facecolor=\"white\")"
   ],
   "metadata": {
    "collapsed": false,
    "pycharm": {
     "name": "#%%\n"
    }
   }
  },
  {
   "cell_type": "code",
   "execution_count": null,
   "outputs": [],
   "source": [
    "norms = np.array([ncvis_data[\"normalization\"][-1] for ncvis_data in ncvis_list])\n",
    "zs = np.array(\n",
    "    [np.exp(ncvis_data[\"qs\"][-1]) for ncvis_data in ncvis_list]) * len(x) * (\n",
    "                 len(x) - 1)  # rescale with noise distribution\n"
   ],
   "metadata": {
    "collapsed": false,
    "pycharm": {
     "name": "#%%\n"
    }
   }
  },
  {
   "cell_type": "code",
   "execution_count": null,
   "outputs": [],
   "source": [
    "print(\"{:.2E}\".format(norms.mean()))\n",
    "print(\"{:.2E}\".format(norms.std()))"
   ],
   "metadata": {
    "collapsed": false,
    "pycharm": {
     "name": "#%%\n"
    }
   }
  },
  {
   "cell_type": "code",
   "execution_count": null,
   "outputs": [],
   "source": [
    "print(\"{:.2E}\".format(zs.mean()))\n",
    "print(\"{:.2E}\".format(zs.std()))"
   ],
   "metadata": {
    "collapsed": false,
    "pycharm": {
     "name": "#%%\n"
    }
   }
  },
  {
   "cell_type": "code",
   "execution_count": null,
   "outputs": [],
   "source": [
    "unique_labels, counts = np.unique(np.array([zebra_color_to_label[i] for i in y]), return_counts=True)"
   ],
   "metadata": {
    "collapsed": false,
    "pycharm": {
     "name": "#%%\n"
    }
   }
  },
  {
   "cell_type": "code",
   "execution_count": null,
   "outputs": [],
   "source": [
    "print(unique_labels)\n",
    "print(counts)"
   ],
   "metadata": {
    "collapsed": false,
    "pycharm": {
     "name": "#%%\n"
    }
   }
  },
  {
   "cell_type": "code",
   "execution_count": null,
   "outputs": [],
   "source": [],
   "metadata": {
    "collapsed": false,
    "pycharm": {
     "name": "#%%\n"
    }
   }
  }
 ],
 "metadata": {
  "kernelspec": {
   "name": "conda-env-nce-py",
   "language": "python",
   "display_name": "Python [conda env:nce]"
  },
  "language_info": {
   "codemirror_mode": {
    "name": "ipython",
    "version": 2
   },
   "file_extension": ".py",
   "mimetype": "text/x-python",
   "name": "python",
   "nbconvert_exporter": "python",
   "pygments_lexer": "ipython2",
   "version": "2.7.6"
  }
 },
 "nbformat": 4,
 "nbformat_minor": 0
}