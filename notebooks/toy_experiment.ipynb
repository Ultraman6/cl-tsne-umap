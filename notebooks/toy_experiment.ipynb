{
 "cells": [
  {
   "cell_type": "code",
   "execution_count": 197,
   "outputs": [
    {
     "name": "stdout",
     "output_type": "stream",
     "text": [
      "The autoreload extension is already loaded. To reload it, use:\n",
      "  %reload_ext autoreload\n",
      "env: CUDA_VISIBLE_DEVICES=1\n"
     ]
    }
   ],
   "source": [
    "%load_ext autoreload\n",
    "%autoreload 2\n",
    "%env CUDA_VISIBLE_DEVICES=1\n",
    "import matplotlib.pyplot as plt\n",
    "import matplotlib\n",
    "\n",
    "import os\n",
    "import numpy as np\n",
    "import sys\n",
    "sys.path.append(\"..\")\n",
    "from scripts.utils import get_path, get_noise_in_estimator\n",
    "from vis_utils.loaders import load_dataset, label_to_color, label_to_time\n",
    "from vis_utils.utils import compute_normalization\n",
    "import pickle\n",
    "import cne\n"
   ],
   "metadata": {
    "collapsed": false
   }
  },
  {
   "cell_type": "code",
   "execution_count": 198,
   "outputs": [],
   "source": [
    "root_path = get_path(\"data\")\n",
    "fig_path = get_path(\"figures\")"
   ],
   "metadata": {
    "collapsed": false
   }
  },
  {
   "cell_type": "code",
   "execution_count": 199,
   "outputs": [],
   "source": [
    "# parameters for all methods\n",
    "seeds = [0, 1, 2]\n",
    "\n",
    "dataset = \"toy\"\n",
    "k = 2"
   ],
   "metadata": {
    "collapsed": false
   }
  },
  {
   "cell_type": "code",
   "execution_count": 200,
   "outputs": [],
   "source": [
    "plt.style.use(\"default\")\n",
    "matplotlib.rcParams['mathtext.fontset'] = 'stix'\n",
    "plt.rcParams[\"font.family\"] = \"serif\"\n",
    "plt.rcParams['font.serif'] = \"Times New Roman\""
   ],
   "metadata": {
    "collapsed": false
   }
  },
  {
   "cell_type": "code",
   "execution_count": 201,
   "outputs": [],
   "source": [
    "x, y, sknn, pca2 = load_dataset(root_path, dataset, k=k)"
   ],
   "metadata": {
    "collapsed": false
   }
  },
  {
   "cell_type": "code",
   "execution_count": 202,
   "outputs": [
    {
     "data": {
      "text/plain": "array([[0.       , 0.       ],\n       [1.       , 0.       ],\n       [0.5      , 0.8660254]])"
     },
     "execution_count": 202,
     "metadata": {},
     "output_type": "execute_result"
    }
   ],
   "source": [
    "x"
   ],
   "metadata": {
    "collapsed": false
   }
  },
  {
   "cell_type": "code",
   "execution_count": 203,
   "outputs": [
    {
     "data": {
      "text/plain": "array([[-0.5       , -0.28867513],\n       [ 0.5       , -0.28867513],\n       [ 0.        ,  0.57735027]])"
     },
     "execution_count": 203,
     "metadata": {},
     "output_type": "execute_result"
    }
   ],
   "source": [
    "pca2"
   ],
   "metadata": {
    "collapsed": false
   }
  },
  {
   "cell_type": "code",
   "execution_count": 204,
   "outputs": [
    {
     "data": {
      "text/plain": "matrix([[0., 1., 1.],\n        [1., 0., 1.],\n        [1., 1., 0.]])"
     },
     "execution_count": 204,
     "metadata": {},
     "output_type": "execute_result"
    }
   ],
   "source": [
    "sknn.todense()"
   ],
   "metadata": {
    "collapsed": false
   }
  },
  {
   "cell_type": "code",
   "execution_count": 205,
   "outputs": [],
   "source": [
    "# parameters\n",
    "parametric = False\n",
    "log_embds = True\n",
    "log_norms = True\n",
    "log_kl = False\n",
    "optimizer = \"sgd\"\n",
    "n_epochs = 750\n",
    "loss_mode = \"neg_sample\"\n",
    "n_noise = 5\n",
    "batch_size = 6  # full batch GD, there are 6 nonzero entries in the sknn adjacency matrix\n",
    "rescale = 1.0\n",
    "anneal_lr = True\n",
    "momentum=0.0\n",
    "learning_rate = 0.01\n",
    "lr_min_factor=0.0\n",
    "clamp_low = 1e-10\n",
    "on_gpu = True\n",
    "init_type = \"pca\""
   ],
   "metadata": {
    "collapsed": false
   }
  },
  {
   "cell_type": "code",
   "execution_count": 206,
   "outputs": [
    {
     "name": "stdout",
     "output_type": "stream",
     "text": [
      "Done with noise_in_estimator 0.006060606060606061\n",
      "Done with noise_in_estimator 0.30303030303030304\n",
      "Done with noise_in_estimator 0.6060606060606061\n",
      "Done with noise_in_estimator 0.9090909090909091\n",
      "Done with noise_in_estimator 1.2121212121212122\n",
      "Done with noise_in_estimator 1.5151515151515151\n",
      "Done with noise_in_estimator 1.8181818181818181\n",
      "Done with noise_in_estimator 2.121212121212121\n",
      "Done with noise_in_estimator 2.4242424242424243\n",
      "Done with noise_in_estimator 2.727272727272727\n",
      "Done with noise_in_estimator 3.0303030303030303\n",
      "Done with noise_in_estimator 3.3333333333333335\n",
      "Done with noise_in_estimator 3.6363636363636362\n",
      "Done with noise_in_estimator 3.9393939393939394\n",
      "Done with noise_in_estimator 4.242424242424242\n",
      "Done with noise_in_estimator 4.545454545454546\n"
     ]
    }
   ],
   "source": [
    "# main optimization phase\n",
    "nbs_noise_in_estimator = (np.insert(np.linspace(0, 7, 15) +0.5, 0, 0.01)) *n_noise * 4 / 33  # exact value of the noise distribution at such a low batch size, confer appendix on the noise distribution\n",
    "seeds = [0, 1, 2]\n",
    "final_norms = np.empty((len(nbs_noise_in_estimator), len(seeds)))\n",
    "for i, noise_in_estimator in enumerate(nbs_noise_in_estimator):\n",
    "    for j, seed in enumerate(seeds):\n",
    "        file_name = os.path.join(root_path,\n",
    "                             dataset,\n",
    "                             f\"cne_{loss_mode}_n_noise_{n_noise}_noise_in_estimator_{noise_in_estimator}_n_epochs_{n_epochs}_init_pca_bs_{batch_size}\"\n",
    "                             f\"_optim_{optimizer}_anneal_lr_{anneal_lr}_lr_min_factor_{lr_min_factor}_momentum_{momentum}_param_{parametric}_clamp_low_{clamp_low}_seed_{seed}.pkl\"\n",
    "                             )\n",
    "\n",
    "        try:\n",
    "            with open(file_name, \"rb\") as file:\n",
    "                embedder_cne = pickle.load(file)\n",
    "        except FileNotFoundError:\n",
    "            logger = cne.callbacks.Logger(log_embds=log_embds,\n",
    "                                          log_norms=log_norms,\n",
    "                                          log_kl=log_kl,\n",
    "                                          graph=sknn,\n",
    "                                          n=len(x) if parametric else None)\n",
    "            embedder = cne.CNE(loss_mode=loss_mode,\n",
    "                               parametric=parametric,\n",
    "                               negative_samples=n_noise,\n",
    "                               n_epochs=n_epochs,\n",
    "                               batch_size=batch_size,\n",
    "                               on_gpu=on_gpu,\n",
    "                               print_freq_epoch=None,\n",
    "                               print_freq_in_epoch=None,\n",
    "                               callback=logger,\n",
    "                               optimizer=optimizer,\n",
    "                               momentum=momentum,\n",
    "                               save_freq=1,\n",
    "                               anneal_lr=anneal_lr,\n",
    "                               noise_in_estimator=noise_in_estimator,\n",
    "                               lr_min_factor=lr_min_factor,\n",
    "                               clamp_low=clamp_low,\n",
    "                               seed=seed,\n",
    "                               learning_rate=learning_rate,\n",
    "                               loss_aggregation=\"sum\",\n",
    "                               force_resample=True\n",
    "                               )\n",
    "            embedder.fit(x, init=pca2, graph=sknn)\n",
    "            embedder_cne = embedder.cne\n",
    "\n",
    "            with open(file_name, \"wb\") as file:\n",
    "                pickle.dump(embedder_cne, file, pickle.HIGHEST_PROTOCOL)\n",
    "\n",
    "        embd = embedder_cne.callback.embds[-1]\n",
    "        final_norms[i, j] = compute_normalization(embd)\n",
    "    print(f\"Done with noise_in_estimator {noise_in_estimator}\")"
   ],
   "metadata": {
    "collapsed": false
   }
  },
  {
   "cell_type": "code",
   "execution_count": 207,
   "outputs": [],
   "source": [
    "mean = final_norms.mean(1)\n",
    "std = final_norms.std(1)\n",
    "\n",
    "zbar = nbs_noise_in_estimator / n_noise / (4/33)\n"
   ],
   "metadata": {
    "collapsed": false
   }
  },
  {
   "cell_type": "code",
   "execution_count": 210,
   "outputs": [
    {
     "data": {
      "text/plain": "<Figure size 640x480 with 1 Axes>",
      "image/png": "[encoded data removed]"
     },
     "metadata": {},
     "output_type": "display_data"
    }
   ],
   "source": [
    "fontsize=20\n",
    "plt.plot(zbar, mean)\n",
    "plt.fill_between(zbar, mean-std, mean+std, alpha=0.5)\n",
    "\n",
    "#plt.plot(zbar, zbar, linestyle=\"dotted\", c=\"k\")\n",
    "plt.xlabel(r\"$\\bar{Z}$\", fontsize=fontsize)\n",
    "plt.gca().xaxis.set_label_coords(0.95, 0.15)\n",
    "plt.ylabel(\"Partition function\", fontsize=fontsize)\n",
    "\n",
    "\n",
    "plt.gca().spines['right'].set_visible(False)\n",
    "plt.gca().spines['top'].set_visible(False)\n",
    "plt.gca().spines['left'].set_position(('data', 0))\n",
    "plt.gca().spines['bottom'].set_position(('data', 0))\n",
    "plt.xticks([1,2,3,4,5,6,7],fontsize=fontsize)\n",
    "plt.yticks([1,2,3,4,5,6,7], fontsize=fontsize)\n",
    "\n",
    "\n",
    "plt.gca().set_aspect(\"equal\")\n",
    "plt.savefig(os.path.join(fig_path,\n",
    "                         f\"toy_partition.png\"),\n",
    "            bbox_inches='tight',\n",
    "            pad_inches=0.1,\n",
    "            dpi=200)"
   ],
   "metadata": {
    "collapsed": false
   }
  },
  {
   "cell_type": "code",
   "execution_count": null,
   "outputs": [],
   "source": [],
   "metadata": {
    "collapsed": false
   }
  }
 ],
 "metadata": {
  "kernelspec": {
   "name": "conda-env-nce-py",
   "language": "python",
   "display_name": "Python [conda env:nce]"
  },
  "language_info": {
   "codemirror_mode": {
    "name": "ipython",
    "version": 2
   },
   "file_extension": ".py",
   "mimetype": "text/x-python",
   "name": "python",
   "nbconvert_exporter": "python",
   "pygments_lexer": "ipython2",
   "version": "2.7.6"
  }
 },
 "nbformat": 4,
 "nbformat_minor": 0
}
